{
 "cells": [
  {
   "cell_type": "code",
   "execution_count": null,
   "metadata": {},
   "outputs": [],
   "source": [
    "import pandas as pd\n",
    "import datetime\n",
    "pd.set_option('display.max_colwidth', 128)\n",
    "pd.set_option('display.width', 1000)\n",
    "pd.set_option('display.max_rows', 60)"
   ]
  },
  {
   "cell_type": "code",
   "execution_count": null,
   "metadata": {},
   "outputs": [],
   "source": [
    "\"\"\"\n",
    "-- Modified original query from https://dune.com/queries/92408/184718\n",
    "\n",
    "SELECT \n",
    "  tx.hash,\n",
    "  tx.success,\n",
    "  --pid.\"name\", \n",
    "  mints.\"_projectId\" AS ProjectID,\n",
    "  tx.value/1e18 AS price_eth,\n",
    "  date_trunc('second', mints.\"evt_block_time\") AS time,   \n",
    "  mints.\"_to\" AS buyer, \n",
    "  (tx.\"gas_used\" * tx.\"gas_price\"/1e18) AS gas_eth\n",
    "FROM artblocks.\"GenArt721_evt_Mint\" mints -- old contrct\n",
    "LEFT JOIN ethereum.transactions tx\n",
    "  ON mints.\"evt_tx_hash\" = tx.\"hash\"\n",
    "--LEFT JOIN dune_user_generated.ArtBlocksProjectIDs pid \n",
    "--  ON pid.id = mints.\"_projectId\"\n",
    "\n",
    "UNION ALL \n",
    "    \n",
    "SELECT \n",
    "  tx.hash,\n",
    "  tx.success,\n",
    "  --pid.\"name\", \n",
    "  mints.\"_projectId\" AS ProjectID, \n",
    "  tx.value/1e18 AS price, \n",
    "  date_trunc('second', mints.\"call_block_time\") AS time, \n",
    "  mints.\"_by\" AS buyer, \n",
    "  (tx.\"gas_used\" * tx.\"gas_price\"/1e18) AS gas_eth\n",
    "FROM artblocks.\"GenArt721Core_call_mint\" mints -- new contract\n",
    "LEFT JOIN ethereum.transactions tx\n",
    "  ON mints.\"call_tx_hash\" = tx.\"hash\"\n",
    "--LEFT JOIN dune_user_generated.ArtBlocksProjectIDs pid \n",
    "--  ON pid.id = mints.\"_projectId\"\n",
    "WHERE \"output__tokenId\" is not null\n",
    "ORDER BY time DESC\n",
    "\"\"\"\n",
    "\n",
    "d = pd.read_csv('../mint.csv')\n",
    "d[\"time\"] = pd.to_datetime(d[\"time\"])\n",
    "display(d.dtypes)\n",
    "\n",
    "# sort by time and descending gas for most probable execution order without looking at transaction order numbers.\n",
    "d.sort_values(by=[\"time\", \"gas_eth\"], ascending=[True, False], inplace=True)\n",
    "\n",
    "d.head()"
   ]
  },
  {
   "cell_type": "code",
   "execution_count": null,
   "metadata": {},
   "outputs": [],
   "source": [
    "display(d.info())\n",
    "display(\"Number of successful mints: \", d.success.sum())\n",
    "d.describe(include=['bool','float', 'int', 'datetime'])"
   ]
  },
  {
   "cell_type": "code",
   "execution_count": null,
   "metadata": {},
   "outputs": [],
   "source": [
    "mints = d[d[\"success\"]]\n",
    "\n",
    "import statistics\n",
    "\n",
    "def getMiddleValue(pdSeries):\n",
    "    mid = (pdSeries.count() / 2).astype(int)\n",
    "    return pdSeries.iloc[mid]\n",
    "\n",
    "mintsByProjectId = mints.groupby(\"projectid\")\n",
    "mintsByProjectId = pd.DataFrame({\n",
    "    \"count\": mintsByProjectId[\"projectid\"].count(),\n",
    "    \"firstMintTime\": mintsByProjectId[\"time\"].first(),\n",
    "    \"lastMintTime\": mintsByProjectId[\"time\"].last(),\n",
    "    \"lastMintPriceTotal\": mintsByProjectId[\"price_eth\"].last() + mintsByProjectId[\"gas_eth\"].last(),\n",
    "    \"minMintPrice\": mintsByProjectId[\"price_eth\"].min(),\n",
    "\t\"medianMintPrice\": mintsByProjectId[\"price_eth\"].median(),\n",
    "\t\"meanMintPrice\": mintsByProjectId[\"price_eth\"].mean(),\n",
    "    \"medianMintTime\":  mintsByProjectId[\"time\"].apply(lambda x: getMiddleValue(x))\n",
    "    })\n",
    "mintsByProjectId[\"latterMintWindowInMins\"] = round((mintsByProjectId[\"lastMintTime\"] - mintsByProjectId[\"medianMintTime\"]).dt.total_seconds() / 60, 2)\n",
    "mintsByProjectId[\"totalMintWindowInMins\"] = ((mintsByProjectId[\"lastMintTime\"] - mintsByProjectId[\"firstMintTime\"]).dt.total_seconds() / 60)\n",
    "mintsByProjectId[\"mintWindowUnder4Hours\"] = (mintsByProjectId[\"totalMintWindowInMins\"] <= 240)"
   ]
  },
  {
   "cell_type": "code",
   "execution_count": null,
   "metadata": {},
   "outputs": [],
   "source": [
    "firstMints = mints.groupby(\"projectid\")\n",
    "firstMints = firstMints[\"time\"].first()\n",
    "total = pd.merge(mints, firstMints, on=\"projectid\", how=\"outer\")\n",
    "total[\"time_x\"] = pd.to_datetime(total[\"time_x\"])\n",
    "total[\"time_y\"] = pd.to_datetime(total[\"time_y\"])\n",
    "total[\"secondMintWithin12Hours\"] = ((total[\"time_x\"] - total[\"time_y\"]).dt.total_seconds() / 3600 < 12)\n",
    "groupedTotal = total.groupby(\"projectid\").sum()\n",
    "print(groupedTotal[groupedTotal[\"secondMintWithin12Hours\"] > 2])\n",
    "print(mintsByProjectId[\"firstMintTime\"])"
   ]
  },
  {
   "cell_type": "code",
   "execution_count": null,
   "metadata": {},
   "outputs": [],
   "source": []
  },
  {
   "cell_type": "code",
   "execution_count": null,
   "metadata": {},
   "outputs": [],
   "source": [
    "mintsByProjectIdNoIndex = mintsByProjectId.reset_index()\n",
    "settings = [\"medianMintPrice\", \"meanMintPrice\", \"minMintPrice\", \"totalMintWindowInMins\"]\n",
    "def updateStats(i = 1):\n",
    "\tmintsByProjectIdNoIndex.plot.scatter(x=\"projectid\", y=settings[i], figsize=(20,8), title=\"all collections\")\n",
    "\tmintsByProjectIdNoIndex[mintsByProjectIdNoIndex[\"mintWindowUnder4Hours\"] == True].plot.scatter(x=\"projectid\", y=settings[i], figsize=(20,8), title=\"sold out under 4 hours\")\n",
    "\n",
    "interact(updateStats)"
   ]
  },
  {
   "cell_type": "code",
   "execution_count": null,
   "metadata": {},
   "outputs": [],
   "source": [
    "\"\"\"\n",
    "-- Modified original query from https://dune.com/queries/160701/314169\n",
    "\n",
    "select distinct block_time, \n",
    "  ROUND(\"nft_token_id\"::numeric / 1000000) as projectid,\n",
    "  round(eth_amount, 2) as eth_price, \n",
    "  usd_price, \n",
    "  link, \n",
    "  platform, \n",
    "  left(seller::text, 7) as seller, \n",
    "  left(buyer::text, 7) as buyer \n",
    "from \n",
    "(\n",
    "select \n",
    "  block_time, \n",
    "  platform, \n",
    "  usd_amount, \n",
    "     \n",
    "  case \n",
    "     when (\"original_currency\" = 'ETH' OR \"original_currency\" = 'WETH')\n",
    "             THEN  (\"original_amount\")\n",
    "    else 0  \n",
    "  END as eth_amount, \n",
    "  \"usd_amount\" as usd_price,\n",
    "\n",
    "   \n",
    " CONCAT('<a href=\"https://opensea.io/assets/', CONCAT('0x', substring(a.\"nft_contract_address\"::text from 3)), '/', a.nft_token_id,  '/?ref=0x8F903cFC0Af3C2EC0d872c57538AF5e071544a57','\" target=\"_blank\" >', 'View on OS', '</a>') as  link,\n",
    "   \n",
    " seller, \n",
    " buyer, \n",
    " tx_hash,\n",
    " nft_token_id\n",
    "\n",
    "from nft.\"trades\" a\n",
    "WHERE \n",
    "     \"trade_type\" = 'Single Item Trade'\n",
    "     AND (a.nft_contract_address = '\\xa7d8d9ef8d8ce8992df33d8b8cf4aebabd5bd270'\n",
    "    OR  a.nft_contract_address = '\\x059edd72cd353df5106d2b9cc5ab83a52287ac3a')\n",
    "ORDER BY block_time DESC \n",
    ") gg\n",
    "-- WHERE block_time > '{{Date}}'\n",
    "order by block_time DESC\n",
    "\"\"\"\n",
    "\n",
    "p = pd.read_csv('../sales.csv')\n",
    "\n",
    "display(\"Before filtering:\", len(d))\n",
    "\n",
    "# cleaning up weird project ids\n",
    "p_removed = p[p[\"projectid\"].str.len() >= 8]\n",
    "p = p[p[\"projectid\"].str.len() < 8]\n",
    "\n",
    "# casting\n",
    "p[\"block_time\"] = pd.to_datetime(p[\"block_time\"])\n",
    "p[\"projectid\"] = p[\"projectid\"].astype(int)\n",
    "\n",
    "p.sort_values(by=[\"block_time\"], ascending=[True], inplace=True)\n",
    "\n",
    "\n",
    "# adding derived data\n",
    "p[\"normalized_price\"] = p[\"eth_price\"] / p[\"projectid\"].map(mintsByProjectId.lastMintPriceTotal)\n",
    "p[\"lastMintTime\"] = p[\"projectid\"].map(mintsByProjectId.lastMintTime)\n",
    "p[\"isWithin2hFromLastMintTime\"] = ((p[\"block_time\"] - p[\"lastMintTime\"]).dt.total_seconds() / 60 < 120) & ((p[\"block_time\"] - p[\"lastMintTime\"]).dt.total_seconds() > 0)\n",
    "\n",
    "display(p.dtypes)\n",
    "display(p.describe(include=['bool','float', 'int', 'datetime']))\n",
    "p"
   ]
  },
  {
   "cell_type": "code",
   "execution_count": null,
   "metadata": {},
   "outputs": [],
   "source": [
    "tradesByProjectId = p.groupby(\"projectid\")\n",
    "tradesByProjectId = pd.DataFrame({\n",
    "    \"tradeCount\": tradesByProjectId[\"projectid\"].count(),\n",
    "    \"tradeCount2hr\": tradesByProjectId[\"isWithin2hFromLastMintTime\"].sum(),\n",
    "    \"medianNormPrice2h\": tradesByProjectId.apply(lambda df: df[df[\"isWithin2hFromLastMintTime\"]].normalized_price.median()),\n",
    "})"
   ]
  },
  {
   "cell_type": "code",
   "execution_count": null,
   "metadata": {},
   "outputs": [],
   "source": [
    "byProjectId = pd.merge(mintsByProjectId, tradesByProjectId, on=\"projectid\", how=\"outer\")\n",
    "byProjectId"
   ]
  },
  {
   "cell_type": "code",
   "execution_count": null,
   "metadata": {},
   "outputs": [],
   "source": [
    "from ipywidgets import *\n",
    "\n",
    "def update(projectid = 331):\n",
    "    pId = p[p[\"projectid\"] == projectid]\n",
    "    pId[pId[\"isWithin2hFromLastMintTime\"]].plot(x=\"block_time\", y=[\"normalized_price\", \"eth_price\"], figsize=(20,8))\n",
    "\n",
    "interact(update)"
   ]
  },
  {
   "cell_type": "code",
   "execution_count": null,
   "metadata": {},
   "outputs": [],
   "source": [
    "view = mints[mints[\"projectid\"] == 337]"
   ]
  },
  {
   "cell_type": "code",
   "execution_count": null,
   "metadata": {},
   "outputs": [],
   "source": []
  }
 ],
 "metadata": {
  "kernelspec": {
   "display_name": "Python 3.7.5 64-bit",
   "language": "python",
   "name": "python3"
  },
  "language_info": {
   "codemirror_mode": {
    "name": "ipython",
    "version": 3
   },
   "file_extension": ".py",
   "mimetype": "text/x-python",
   "name": "python",
   "nbconvert_exporter": "python",
   "pygments_lexer": "ipython3",
   "version": "3.8.9"
  },
  "orig_nbformat": 4,
  "vscode": {
   "interpreter": {
    "hash": "31f2aee4e71d21fbe5cf8b01ff0e069b9275f58929596ceb00d14d90e3e16cd6"
   }
  }
 },
 "nbformat": 4,
 "nbformat_minor": 2
}
