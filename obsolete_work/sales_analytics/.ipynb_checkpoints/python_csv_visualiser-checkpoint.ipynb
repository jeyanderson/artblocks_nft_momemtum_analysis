{
 "cells": [
  {
   "cell_type": "code",
   "execution_count": 1,
   "id": "a38b44cc",
   "metadata": {},
   "outputs": [],
   "source": [
    "import pandas as pd\n",
    "import csv\n",
    "import matplotlib.pyplot as plt\n",
    "from datetime import datetime\n",
    "from datetime import timedelta\n",
    "import numpy as np"
   ]
  },
  {
   "cell_type": "code",
   "execution_count": 23,
   "id": "b1bdc9b3",
   "metadata": {},
   "outputs": [],
   "source": [
    "str_filename = '334_sales.csv'"
   ]
  },
  {
   "cell_type": "code",
   "execution_count": 24,
   "id": "f6d96369",
   "metadata": {},
   "outputs": [],
   "source": [
    "fh = open(str_filename)\n",
    "csv_reader = csv.reader(fh)"
   ]
  },
  {
   "cell_type": "code",
   "execution_count": 25,
   "id": "69dc00fd",
   "metadata": {},
   "outputs": [
    {
     "data": {
      "text/plain": [
       "['block_time',\n",
       " 'project_addresss',\n",
       " 'eth_price',\n",
       " 'usd_price',\n",
       " 'link',\n",
       " 'platform',\n",
       " 'seller',\n",
       " 'buyer']"
      ]
     },
     "execution_count": 25,
     "metadata": {},
     "output_type": "execute_result"
    }
   ],
   "source": [
    "csv_header = next(csv_reader)\n",
    "csv_header"
   ]
  },
  {
   "cell_type": "code",
   "execution_count": 26,
   "id": "850bb053",
   "metadata": {},
   "outputs": [],
   "source": [
    "fh.close()"
   ]
  },
  {
   "cell_type": "code",
   "execution_count": 27,
   "id": "06c50c56",
   "metadata": {},
   "outputs": [
    {
     "data": {
      "text/html": [
       "<div>\n",
       "<style scoped>\n",
       "    .dataframe tbody tr th:only-of-type {\n",
       "        vertical-align: middle;\n",
       "    }\n",
       "\n",
       "    .dataframe tbody tr th {\n",
       "        vertical-align: top;\n",
       "    }\n",
       "\n",
       "    .dataframe thead th {\n",
       "        text-align: right;\n",
       "    }\n",
       "</style>\n",
       "<table border=\"1\" class=\"dataframe\">\n",
       "  <thead>\n",
       "    <tr style=\"text-align: right;\">\n",
       "      <th></th>\n",
       "      <th>block_time</th>\n",
       "      <th>project_addresss</th>\n",
       "      <th>eth_price</th>\n",
       "      <th>usd_price</th>\n",
       "      <th>link</th>\n",
       "      <th>platform</th>\n",
       "      <th>seller</th>\n",
       "      <th>buyer</th>\n",
       "    </tr>\n",
       "  </thead>\n",
       "  <tbody>\n",
       "    <tr>\n",
       "      <th>0</th>\n",
       "      <td>2022-07-28 16:35:42</td>\n",
       "      <td>ArtBlocks</td>\n",
       "      <td>2.05</td>\n",
       "      <td>NaN</td>\n",
       "      <td>&lt;a href=\"https://opensea.io/assets/0xa7d8d9ef8...</td>\n",
       "      <td>OpenSea</td>\n",
       "      <td>\\x7abca</td>\n",
       "      <td>\\x93c21</td>\n",
       "    </tr>\n",
       "    <tr>\n",
       "      <th>1</th>\n",
       "      <td>2022-07-28 16:35:26</td>\n",
       "      <td>ArtBlocks</td>\n",
       "      <td>2.00</td>\n",
       "      <td>NaN</td>\n",
       "      <td>&lt;a href=\"https://opensea.io/assets/0xa7d8d9ef8...</td>\n",
       "      <td>OpenSea</td>\n",
       "      <td>\\x6ad24</td>\n",
       "      <td>\\x93c21</td>\n",
       "    </tr>\n",
       "    <tr>\n",
       "      <th>2</th>\n",
       "      <td>2022-07-28 15:20:17</td>\n",
       "      <td>ArtBlocks</td>\n",
       "      <td>2.20</td>\n",
       "      <td>NaN</td>\n",
       "      <td>&lt;a href=\"https://opensea.io/assets/0xa7d8d9ef8...</td>\n",
       "      <td>OpenSea</td>\n",
       "      <td>\\xcd949</td>\n",
       "      <td>\\x9469c</td>\n",
       "    </tr>\n",
       "    <tr>\n",
       "      <th>3</th>\n",
       "      <td>2022-07-28 15:19:33</td>\n",
       "      <td>ArtBlocks</td>\n",
       "      <td>2.09</td>\n",
       "      <td>NaN</td>\n",
       "      <td>&lt;a href=\"https://opensea.io/assets/0xa7d8d9ef8...</td>\n",
       "      <td>OpenSea</td>\n",
       "      <td>\\x8d6dc</td>\n",
       "      <td>\\x9469c</td>\n",
       "    </tr>\n",
       "    <tr>\n",
       "      <th>4</th>\n",
       "      <td>2022-07-28 14:55:34</td>\n",
       "      <td>ArtBlocks</td>\n",
       "      <td>2.25</td>\n",
       "      <td>NaN</td>\n",
       "      <td>&lt;a href=\"https://opensea.io/assets/0xa7d8d9ef8...</td>\n",
       "      <td>OpenSea</td>\n",
       "      <td>\\xacdc4</td>\n",
       "      <td>\\x9469c</td>\n",
       "    </tr>\n",
       "    <tr>\n",
       "      <th>...</th>\n",
       "      <td>...</td>\n",
       "      <td>...</td>\n",
       "      <td>...</td>\n",
       "      <td>...</td>\n",
       "      <td>...</td>\n",
       "      <td>...</td>\n",
       "      <td>...</td>\n",
       "      <td>...</td>\n",
       "    </tr>\n",
       "    <tr>\n",
       "      <th>380</th>\n",
       "      <td>2022-07-13 17:05:39</td>\n",
       "      <td>ArtBlocks</td>\n",
       "      <td>3.80</td>\n",
       "      <td>4072.840</td>\n",
       "      <td>&lt;a href=\"https://opensea.io/assets/0xa7d8d9ef8...</td>\n",
       "      <td>OpenSea</td>\n",
       "      <td>\\xf0269</td>\n",
       "      <td>\\x8856d</td>\n",
       "    </tr>\n",
       "    <tr>\n",
       "      <th>381</th>\n",
       "      <td>2022-07-13 17:05:37</td>\n",
       "      <td>ArtBlocks</td>\n",
       "      <td>3.85</td>\n",
       "      <td>4126.430</td>\n",
       "      <td>&lt;a href=\"https://opensea.io/assets/0xa7d8d9ef8...</td>\n",
       "      <td>OpenSea</td>\n",
       "      <td>\\xe80ef</td>\n",
       "      <td>\\xb1270</td>\n",
       "    </tr>\n",
       "    <tr>\n",
       "      <th>382</th>\n",
       "      <td>2022-07-13 17:04:59</td>\n",
       "      <td>ArtBlocks</td>\n",
       "      <td>3.90</td>\n",
       "      <td>4180.020</td>\n",
       "      <td>&lt;a href=\"https://opensea.io/assets/0xa7d8d9ef8...</td>\n",
       "      <td>OpenSea</td>\n",
       "      <td>\\x47f40</td>\n",
       "      <td>\\x93c21</td>\n",
       "    </tr>\n",
       "    <tr>\n",
       "      <th>383</th>\n",
       "      <td>2022-07-13 17:04:59</td>\n",
       "      <td>ArtBlocks</td>\n",
       "      <td>3.99</td>\n",
       "      <td>4276.482</td>\n",
       "      <td>&lt;a href=\"https://opensea.io/assets/0xa7d8d9ef8...</td>\n",
       "      <td>OpenSea</td>\n",
       "      <td>\\x97da2</td>\n",
       "      <td>\\xd4be6</td>\n",
       "    </tr>\n",
       "    <tr>\n",
       "      <th>384</th>\n",
       "      <td>2022-07-13 17:04:34</td>\n",
       "      <td>ArtBlocks</td>\n",
       "      <td>3.88</td>\n",
       "      <td>4158.584</td>\n",
       "      <td>&lt;a href=\"https://opensea.io/assets/0xa7d8d9ef8...</td>\n",
       "      <td>OpenSea</td>\n",
       "      <td>\\x7914c</td>\n",
       "      <td>\\x93c21</td>\n",
       "    </tr>\n",
       "  </tbody>\n",
       "</table>\n",
       "<p>385 rows × 8 columns</p>\n",
       "</div>"
      ],
      "text/plain": [
       "              block_time project_addresss  eth_price  usd_price  \\\n",
       "0    2022-07-28 16:35:42        ArtBlocks       2.05        NaN   \n",
       "1    2022-07-28 16:35:26        ArtBlocks       2.00        NaN   \n",
       "2    2022-07-28 15:20:17        ArtBlocks       2.20        NaN   \n",
       "3    2022-07-28 15:19:33        ArtBlocks       2.09        NaN   \n",
       "4    2022-07-28 14:55:34        ArtBlocks       2.25        NaN   \n",
       "..                   ...              ...        ...        ...   \n",
       "380  2022-07-13 17:05:39        ArtBlocks       3.80   4072.840   \n",
       "381  2022-07-13 17:05:37        ArtBlocks       3.85   4126.430   \n",
       "382  2022-07-13 17:04:59        ArtBlocks       3.90   4180.020   \n",
       "383  2022-07-13 17:04:59        ArtBlocks       3.99   4276.482   \n",
       "384  2022-07-13 17:04:34        ArtBlocks       3.88   4158.584   \n",
       "\n",
       "                                                  link platform   seller  \\\n",
       "0    <a href=\"https://opensea.io/assets/0xa7d8d9ef8...  OpenSea  \\x7abca   \n",
       "1    <a href=\"https://opensea.io/assets/0xa7d8d9ef8...  OpenSea  \\x6ad24   \n",
       "2    <a href=\"https://opensea.io/assets/0xa7d8d9ef8...  OpenSea  \\xcd949   \n",
       "3    <a href=\"https://opensea.io/assets/0xa7d8d9ef8...  OpenSea  \\x8d6dc   \n",
       "4    <a href=\"https://opensea.io/assets/0xa7d8d9ef8...  OpenSea  \\xacdc4   \n",
       "..                                                 ...      ...      ...   \n",
       "380  <a href=\"https://opensea.io/assets/0xa7d8d9ef8...  OpenSea  \\xf0269   \n",
       "381  <a href=\"https://opensea.io/assets/0xa7d8d9ef8...  OpenSea  \\xe80ef   \n",
       "382  <a href=\"https://opensea.io/assets/0xa7d8d9ef8...  OpenSea  \\x47f40   \n",
       "383  <a href=\"https://opensea.io/assets/0xa7d8d9ef8...  OpenSea  \\x97da2   \n",
       "384  <a href=\"https://opensea.io/assets/0xa7d8d9ef8...  OpenSea  \\x7914c   \n",
       "\n",
       "       buyer  \n",
       "0    \\x93c21  \n",
       "1    \\x93c21  \n",
       "2    \\x9469c  \n",
       "3    \\x9469c  \n",
       "4    \\x9469c  \n",
       "..       ...  \n",
       "380  \\x8856d  \n",
       "381  \\xb1270  \n",
       "382  \\x93c21  \n",
       "383  \\xd4be6  \n",
       "384  \\x93c21  \n",
       "\n",
       "[385 rows x 8 columns]"
      ]
     },
     "execution_count": 27,
     "metadata": {},
     "output_type": "execute_result"
    }
   ],
   "source": [
    "df_sig = pd.read_csv(str_filename, header=None, skiprows=1, names=csv_header)\n",
    "df_sig\n"
   ]
  },
  {
   "cell_type": "code",
   "execution_count": 28,
   "id": "c3f72c33",
   "metadata": {},
   "outputs": [
    {
     "data": {
      "text/plain": [
       "0     2022-07-28 16:35:42\n",
       "1     2022-07-28 16:35:26\n",
       "2     2022-07-28 15:20:17\n",
       "3     2022-07-28 15:19:33\n",
       "4     2022-07-28 14:55:34\n",
       "              ...        \n",
       "380   2022-07-13 17:05:39\n",
       "381   2022-07-13 17:05:37\n",
       "382   2022-07-13 17:04:59\n",
       "383   2022-07-13 17:04:59\n",
       "384   2022-07-13 17:04:34\n",
       "Name: Date, Length: 385, dtype: datetime64[ns]"
      ]
     },
     "execution_count": 28,
     "metadata": {},
     "output_type": "execute_result"
    }
   ],
   "source": [
    "df_sig['Date'] = df_sig['block_time'].map(lambda x: datetime.strptime(str(x), '%Y-%m-%d %H:%M:%S'))\n",
    "df_sig['Date']"
   ]
  },
  {
   "cell_type": "code",
   "execution_count": 39,
   "id": "658faeaf",
   "metadata": {},
   "outputs": [
    {
     "ename": "NameError",
     "evalue": "name 'df' is not defined",
     "output_type": "error",
     "traceback": [
      "\u001b[0;31m---------------------------------------------------------------------------\u001b[0m",
      "\u001b[0;31mNameError\u001b[0m                                 Traceback (most recent call last)",
      "Input \u001b[0;32mIn [39]\u001b[0m, in \u001b[0;36m<cell line: 3>\u001b[0;34m()\u001b[0m\n\u001b[1;32m      1\u001b[0m mintStart \u001b[38;5;241m=\u001b[39m datetime(\u001b[38;5;241m2022\u001b[39m,\u001b[38;5;241m7\u001b[39m,\u001b[38;5;241m13\u001b[39m,\u001b[38;5;241m17\u001b[39m,\u001b[38;5;241m0\u001b[39m,\u001b[38;5;241m0\u001b[39m)\n\u001b[1;32m      2\u001b[0m endDate \u001b[38;5;241m=\u001b[39m datetime(\u001b[38;5;241m2022\u001b[39m,\u001b[38;5;241m7\u001b[39m,\u001b[38;5;241m14\u001b[39m,\u001b[38;5;241m17\u001b[39m,\u001b[38;5;241m0\u001b[39m,\u001b[38;5;241m0\u001b[39m)\n\u001b[0;32m----> 3\u001b[0m df_new\u001b[38;5;241m=\u001b[39m\u001b[43mdf\u001b[49m\u001b[38;5;241m.\u001b[39mloc[(df_sig[\u001b[38;5;124m'\u001b[39m\u001b[38;5;124mDate\u001b[39m\u001b[38;5;124m'\u001b[39m] \u001b[38;5;241m<\u001b[39m\u001b[38;5;241m=\u001b[39m endDate)]\n\u001b[1;32m      4\u001b[0m x \u001b[38;5;241m=\u001b[39m df_new[\u001b[38;5;124m'\u001b[39m\u001b[38;5;124mDate\u001b[39m\u001b[38;5;124m'\u001b[39m] \u001b[38;5;241m-\u001b[39m mintStart\n\u001b[1;32m      5\u001b[0m x \u001b[38;5;241m=\u001b[39m (x\u001b[38;5;241m.\u001b[39mdt\u001b[38;5;241m.\u001b[39mtotal_seconds \u001b[38;5;241m/\u001b[39m \u001b[38;5;241m60\u001b[39m)\n",
      "\u001b[0;31mNameError\u001b[0m: name 'df' is not defined"
     ]
    }
   ],
   "source": [
    "mintStart = datetime(2022,7,13,17,0,0)\n",
    "endDate = datetime(2022,7,14,17,0,0)\n",
    "df_new=df_sig.loc[(df_sig['Date'] <= endDate)]\n",
    "x = df_new['Date'] - mintStart\n",
    "x = (x.dt.total_seconds / 60)\n",
    "y = df_sig['eth_price']\n",
    "plt.plot(x, y)\n",
    "plt.xlabel('Time')\n",
    "plt.ylabel('eth_price(eth)')"
   ]
  },
  {
   "cell_type": "code",
   "execution_count": null,
   "id": "40ce7788",
   "metadata": {},
   "outputs": [],
   "source": []
  }
 ],
 "metadata": {
  "kernelspec": {
   "display_name": "Python 3 (ipykernel)",
   "language": "python",
   "name": "python3"
  },
  "language_info": {
   "codemirror_mode": {
    "name": "ipython",
    "version": 3
   },
   "file_extension": ".py",
   "mimetype": "text/x-python",
   "name": "python",
   "nbconvert_exporter": "python",
   "pygments_lexer": "ipython3",
   "version": "3.8.9"
  }
 },
 "nbformat": 4,
 "nbformat_minor": 5
}
