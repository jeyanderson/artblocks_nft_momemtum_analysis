{
 "cells": [
  {
   "cell_type": "code",
   "execution_count": 2,
   "id": "a38b44cc",
   "metadata": {},
   "outputs": [],
   "source": [
    "import pandas as pd\n",
    "import csv\n",
    "import matplotlib.pyplot as plt\n",
    "from datetime import datetime\n",
    "from datetime import timedelta\n",
    "import numpy as np"
   ]
  },
  {
   "cell_type": "code",
   "execution_count": 3,
   "id": "b1bdc9b3",
   "metadata": {},
   "outputs": [],
   "source": [
    "str_filename = '333_sales.csv'"
   ]
  },
  {
   "cell_type": "code",
   "execution_count": 4,
   "id": "f6d96369",
   "metadata": {},
   "outputs": [],
   "source": [
    "fh = open(str_filename)\n",
    "csv_reader = csv.reader(fh)"
   ]
  },
  {
   "cell_type": "code",
   "execution_count": 5,
   "id": "69dc00fd",
   "metadata": {},
   "outputs": [
    {
     "data": {
      "text/plain": [
       "['block_time',\n",
       " 'project_addresss',\n",
       " 'eth_price',\n",
       " 'usd_price',\n",
       " 'link',\n",
       " 'platform',\n",
       " 'seller',\n",
       " 'buyer']"
      ]
     },
     "execution_count": 5,
     "metadata": {},
     "output_type": "execute_result"
    }
   ],
   "source": [
    "csv_header = next(csv_reader)\n",
    "csv_header"
   ]
  },
  {
   "cell_type": "code",
   "execution_count": 6,
   "id": "850bb053",
   "metadata": {},
   "outputs": [],
   "source": [
    "fh.close()"
   ]
  },
  {
   "cell_type": "code",
   "execution_count": 7,
   "id": "06c50c56",
   "metadata": {},
   "outputs": [
    {
     "data": {
      "text/html": [
       "<div>\n",
       "<style scoped>\n",
       "    .dataframe tbody tr th:only-of-type {\n",
       "        vertical-align: middle;\n",
       "    }\n",
       "\n",
       "    .dataframe tbody tr th {\n",
       "        vertical-align: top;\n",
       "    }\n",
       "\n",
       "    .dataframe thead th {\n",
       "        text-align: right;\n",
       "    }\n",
       "</style>\n",
       "<table border=\"1\" class=\"dataframe\">\n",
       "  <thead>\n",
       "    <tr style=\"text-align: right;\">\n",
       "      <th></th>\n",
       "      <th>block_time</th>\n",
       "      <th>project_addresss</th>\n",
       "      <th>eth_price</th>\n",
       "      <th>usd_price</th>\n",
       "      <th>link</th>\n",
       "      <th>platform</th>\n",
       "      <th>seller</th>\n",
       "      <th>buyer</th>\n",
       "    </tr>\n",
       "  </thead>\n",
       "  <tbody>\n",
       "    <tr>\n",
       "      <th>0</th>\n",
       "      <td>2022-07-28 20:03:58</td>\n",
       "      <td>ArtBlocks</td>\n",
       "      <td>2.29</td>\n",
       "      <td>3959.0894</td>\n",
       "      <td>&lt;a href=\"https://opensea.io/assets/0xa7d8d9ef8...</td>\n",
       "      <td>OpenSea</td>\n",
       "      <td>\\xba0b0</td>\n",
       "      <td>\\xa5fd7</td>\n",
       "    </tr>\n",
       "    <tr>\n",
       "      <th>1</th>\n",
       "      <td>2022-07-28 18:49:32</td>\n",
       "      <td>ArtBlocks</td>\n",
       "      <td>2.15</td>\n",
       "      <td>NaN</td>\n",
       "      <td>&lt;a href=\"https://opensea.io/assets/0xa7d8d9ef8...</td>\n",
       "      <td>OpenSea</td>\n",
       "      <td>\\x3f3e2</td>\n",
       "      <td>\\x53dda</td>\n",
       "    </tr>\n",
       "    <tr>\n",
       "      <th>2</th>\n",
       "      <td>2022-07-28 18:37:24</td>\n",
       "      <td>ArtBlocks</td>\n",
       "      <td>1.90</td>\n",
       "      <td>NaN</td>\n",
       "      <td>&lt;a href=\"https://opensea.io/assets/0xa7d8d9ef8...</td>\n",
       "      <td>OpenSea</td>\n",
       "      <td>\\xbf0cd</td>\n",
       "      <td>\\x95298</td>\n",
       "    </tr>\n",
       "    <tr>\n",
       "      <th>3</th>\n",
       "      <td>2022-07-28 18:29:41</td>\n",
       "      <td>ArtBlocks</td>\n",
       "      <td>2.29</td>\n",
       "      <td>NaN</td>\n",
       "      <td>&lt;a href=\"https://opensea.io/assets/0xa7d8d9ef8...</td>\n",
       "      <td>OpenSea</td>\n",
       "      <td>\\x5fd2c</td>\n",
       "      <td>\\x0f02b</td>\n",
       "    </tr>\n",
       "    <tr>\n",
       "      <th>4</th>\n",
       "      <td>2022-07-28 18:00:49</td>\n",
       "      <td>ArtBlocks</td>\n",
       "      <td>3.80</td>\n",
       "      <td>6590.4160</td>\n",
       "      <td>&lt;a href=\"https://opensea.io/assets/0xa7d8d9ef8...</td>\n",
       "      <td>OpenSea</td>\n",
       "      <td>\\x4c54d</td>\n",
       "      <td>\\xb9da9</td>\n",
       "    </tr>\n",
       "    <tr>\n",
       "      <th>...</th>\n",
       "      <td>...</td>\n",
       "      <td>...</td>\n",
       "      <td>...</td>\n",
       "      <td>...</td>\n",
       "      <td>...</td>\n",
       "      <td>...</td>\n",
       "      <td>...</td>\n",
       "      <td>...</td>\n",
       "    </tr>\n",
       "    <tr>\n",
       "      <th>199</th>\n",
       "      <td>2022-07-27 17:26:20</td>\n",
       "      <td>ArtBlocks</td>\n",
       "      <td>2.65</td>\n",
       "      <td>3949.0565</td>\n",
       "      <td>&lt;a href=\"https://opensea.io/assets/0xa7d8d9ef8...</td>\n",
       "      <td>OpenSea</td>\n",
       "      <td>\\x39af7</td>\n",
       "      <td>\\x0d2e9</td>\n",
       "    </tr>\n",
       "    <tr>\n",
       "      <th>200</th>\n",
       "      <td>2022-07-27 17:26:20</td>\n",
       "      <td>ArtBlocks</td>\n",
       "      <td>2.65</td>\n",
       "      <td>3949.0565</td>\n",
       "      <td>&lt;a href=\"https://opensea.io/assets/0xa7d8d9ef8...</td>\n",
       "      <td>OpenSea</td>\n",
       "      <td>\\xbb7c9</td>\n",
       "      <td>\\xf6ace</td>\n",
       "    </tr>\n",
       "    <tr>\n",
       "      <th>201</th>\n",
       "      <td>2022-07-27 17:26:20</td>\n",
       "      <td>ArtBlocks</td>\n",
       "      <td>2.80</td>\n",
       "      <td>4172.5880</td>\n",
       "      <td>&lt;a href=\"https://opensea.io/assets/0xa7d8d9ef8...</td>\n",
       "      <td>OpenSea</td>\n",
       "      <td>\\x50dee</td>\n",
       "      <td>\\x296e0</td>\n",
       "    </tr>\n",
       "    <tr>\n",
       "      <th>202</th>\n",
       "      <td>2022-07-27 17:25:53</td>\n",
       "      <td>ArtBlocks</td>\n",
       "      <td>2.70</td>\n",
       "      <td>4023.4860</td>\n",
       "      <td>&lt;a href=\"https://opensea.io/assets/0xa7d8d9ef8...</td>\n",
       "      <td>OpenSea</td>\n",
       "      <td>\\xc31e0</td>\n",
       "      <td>\\xaec60</td>\n",
       "    </tr>\n",
       "    <tr>\n",
       "      <th>203</th>\n",
       "      <td>2022-07-27 17:25:10</td>\n",
       "      <td>ArtBlocks</td>\n",
       "      <td>3.00</td>\n",
       "      <td>4470.5400</td>\n",
       "      <td>&lt;a href=\"https://opensea.io/assets/0xa7d8d9ef8...</td>\n",
       "      <td>OpenSea</td>\n",
       "      <td>\\x47f40</td>\n",
       "      <td>\\xcd32f</td>\n",
       "    </tr>\n",
       "  </tbody>\n",
       "</table>\n",
       "<p>204 rows × 8 columns</p>\n",
       "</div>"
      ],
      "text/plain": [
       "              block_time project_addresss  eth_price  usd_price  \\\n",
       "0    2022-07-28 20:03:58        ArtBlocks       2.29  3959.0894   \n",
       "1    2022-07-28 18:49:32        ArtBlocks       2.15        NaN   \n",
       "2    2022-07-28 18:37:24        ArtBlocks       1.90        NaN   \n",
       "3    2022-07-28 18:29:41        ArtBlocks       2.29        NaN   \n",
       "4    2022-07-28 18:00:49        ArtBlocks       3.80  6590.4160   \n",
       "..                   ...              ...        ...        ...   \n",
       "199  2022-07-27 17:26:20        ArtBlocks       2.65  3949.0565   \n",
       "200  2022-07-27 17:26:20        ArtBlocks       2.65  3949.0565   \n",
       "201  2022-07-27 17:26:20        ArtBlocks       2.80  4172.5880   \n",
       "202  2022-07-27 17:25:53        ArtBlocks       2.70  4023.4860   \n",
       "203  2022-07-27 17:25:10        ArtBlocks       3.00  4470.5400   \n",
       "\n",
       "                                                  link platform   seller  \\\n",
       "0    <a href=\"https://opensea.io/assets/0xa7d8d9ef8...  OpenSea  \\xba0b0   \n",
       "1    <a href=\"https://opensea.io/assets/0xa7d8d9ef8...  OpenSea  \\x3f3e2   \n",
       "2    <a href=\"https://opensea.io/assets/0xa7d8d9ef8...  OpenSea  \\xbf0cd   \n",
       "3    <a href=\"https://opensea.io/assets/0xa7d8d9ef8...  OpenSea  \\x5fd2c   \n",
       "4    <a href=\"https://opensea.io/assets/0xa7d8d9ef8...  OpenSea  \\x4c54d   \n",
       "..                                                 ...      ...      ...   \n",
       "199  <a href=\"https://opensea.io/assets/0xa7d8d9ef8...  OpenSea  \\x39af7   \n",
       "200  <a href=\"https://opensea.io/assets/0xa7d8d9ef8...  OpenSea  \\xbb7c9   \n",
       "201  <a href=\"https://opensea.io/assets/0xa7d8d9ef8...  OpenSea  \\x50dee   \n",
       "202  <a href=\"https://opensea.io/assets/0xa7d8d9ef8...  OpenSea  \\xc31e0   \n",
       "203  <a href=\"https://opensea.io/assets/0xa7d8d9ef8...  OpenSea  \\x47f40   \n",
       "\n",
       "       buyer  \n",
       "0    \\xa5fd7  \n",
       "1    \\x53dda  \n",
       "2    \\x95298  \n",
       "3    \\x0f02b  \n",
       "4    \\xb9da9  \n",
       "..       ...  \n",
       "199  \\x0d2e9  \n",
       "200  \\xf6ace  \n",
       "201  \\x296e0  \n",
       "202  \\xaec60  \n",
       "203  \\xcd32f  \n",
       "\n",
       "[204 rows x 8 columns]"
      ]
     },
     "execution_count": 7,
     "metadata": {},
     "output_type": "execute_result"
    }
   ],
   "source": [
    "df_sig = pd.read_csv(str_filename, header=None, skiprows=1, names=csv_header)\n",
    "df_sig\n"
   ]
  },
  {
   "cell_type": "code",
   "execution_count": 8,
   "id": "c3f72c33",
   "metadata": {},
   "outputs": [
    {
     "data": {
      "text/plain": [
       "0     2022-07-28 20:03:58\n",
       "1     2022-07-28 18:49:32\n",
       "2     2022-07-28 18:37:24\n",
       "3     2022-07-28 18:29:41\n",
       "4     2022-07-28 18:00:49\n",
       "              ...        \n",
       "199   2022-07-27 17:26:20\n",
       "200   2022-07-27 17:26:20\n",
       "201   2022-07-27 17:26:20\n",
       "202   2022-07-27 17:25:53\n",
       "203   2022-07-27 17:25:10\n",
       "Name: Date, Length: 204, dtype: datetime64[ns]"
      ]
     },
     "execution_count": 8,
     "metadata": {},
     "output_type": "execute_result"
    }
   ],
   "source": [
    "df_sig['Date'] = df_sig['block_time'].map(lambda x: datetime.strptime(str(x), '%Y-%m-%d %H:%M:%S'))\n",
    "df_sig['Date']"
   ]
  },
  {
   "cell_type": "code",
   "execution_count": 11,
   "id": "658faeaf",
   "metadata": {},
   "outputs": [
    {
     "data": {
      "text/plain": [
       "Text(0, 0.5, 'eth_price(eth)')"
      ]
     },
     "execution_count": 11,
     "metadata": {},
     "output_type": "execute_result"
    },
    {
     "data": {
      "image/png": "[encoded data removed]",
      "text/plain": [
       "<Figure size 432x288 with 1 Axes>"
      ]
     },
     "metadata": {
      "needs_background": "light"
     },
     "output_type": "display_data"
    }
   ],
   "source": [
    "mintStart = datetime(2022,7,27,17,0,0)\n",
    "endDate = datetime(2022,7,27,18,30,0)\n",
    "df_new=df_sig.loc[(df_sig['Date'] <= endDate)]\n",
    "x = df_new['Date'] - mintStart\n",
    "x = (x.dt.total_seconds() / 60)\n",
    "y = df_new['eth_price']\n",
    "plt.plot(x, y)\n",
    "plt.xlabel('Time(minute)')\n",
    "plt.ylabel('eth_price(eth)')"
   ]
  },
  {
   "cell_type": "code",
   "execution_count": null,
   "id": "40ce7788",
   "metadata": {},
   "outputs": [],
   "source": []
  }
 ],
 "metadata": {
  "kernelspec": {
   "display_name": "Python 3 (ipykernel)",
   "language": "python",
   "name": "python3"
  },
  "language_info": {
   "codemirror_mode": {
    "name": "ipython",
    "version": 3
   },
   "file_extension": ".py",
   "mimetype": "text/x-python",
   "name": "python",
   "nbconvert_exporter": "python",
   "pygments_lexer": "ipython3",
   "version": "3.8.9"
  }
 },
 "nbformat": 4,
 "nbformat_minor": 5
}
