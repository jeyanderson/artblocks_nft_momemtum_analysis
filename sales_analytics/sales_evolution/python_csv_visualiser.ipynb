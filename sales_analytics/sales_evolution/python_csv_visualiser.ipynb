{
 "cells": [
  {
   "cell_type": "code",
   "execution_count": 6,
   "id": "a38b44cc",
   "metadata": {},
   "outputs": [],
   "source": [
    "import pandas as pd\n",
    "import csv\n",
    "import matplotlib.pyplot as plt\n",
    "from datetime import datetime\n",
    "from datetime import timedelta\n",
    "import numpy as np"
   ]
  },
  {
   "cell_type": "code",
   "execution_count": 7,
   "id": "b1bdc9b3",
   "metadata": {},
   "outputs": [],
   "source": [
    "str_filename = '328_sales.csv'"
   ]
  },
  {
   "cell_type": "code",
   "execution_count": 8,
   "id": "f6d96369",
   "metadata": {},
   "outputs": [],
   "source": [
    "fh = open(str_filename)\n",
    "csv_reader = csv.reader(fh)"
   ]
  },
  {
   "cell_type": "code",
   "execution_count": 9,
   "id": "69dc00fd",
   "metadata": {},
   "outputs": [
    {
     "data": {
      "text/plain": [
       "['block_time',\n",
       " 'project/addresss',\n",
       " 'eth_price',\n",
       " 'usd_price',\n",
       " 'link',\n",
       " 'platform',\n",
       " 'seller',\n",
       " 'buyer']"
      ]
     },
     "execution_count": 9,
     "metadata": {},
     "output_type": "execute_result"
    }
   ],
   "source": [
    "csv_header = next(csv_reader)\n",
    "csv_header"
   ]
  },
  {
   "cell_type": "code",
   "execution_count": 10,
   "id": "850bb053",
   "metadata": {},
   "outputs": [],
   "source": [
    "fh.close()"
   ]
  },
  {
   "cell_type": "code",
   "execution_count": 11,
   "id": "06c50c56",
   "metadata": {},
   "outputs": [
    {
     "data": {
      "text/html": [
       "<div>\n",
       "<style scoped>\n",
       "    .dataframe tbody tr th:only-of-type {\n",
       "        vertical-align: middle;\n",
       "    }\n",
       "\n",
       "    .dataframe tbody tr th {\n",
       "        vertical-align: top;\n",
       "    }\n",
       "\n",
       "    .dataframe thead th {\n",
       "        text-align: right;\n",
       "    }\n",
       "</style>\n",
       "<table border=\"1\" class=\"dataframe\">\n",
       "  <thead>\n",
       "    <tr style=\"text-align: right;\">\n",
       "      <th></th>\n",
       "      <th>block_time</th>\n",
       "      <th>project/addresss</th>\n",
       "      <th>eth_price</th>\n",
       "      <th>usd_price</th>\n",
       "      <th>link</th>\n",
       "      <th>platform</th>\n",
       "      <th>seller</th>\n",
       "      <th>buyer</th>\n",
       "    </tr>\n",
       "  </thead>\n",
       "  <tbody>\n",
       "    <tr>\n",
       "      <th>0</th>\n",
       "      <td>2022-07-28T13:02:22+00:00</td>\n",
       "      <td>ArtBlocks</td>\n",
       "      <td>2.40</td>\n",
       "      <td>NaN</td>\n",
       "      <td>&lt;a href=\"https://opensea.io/assets/0xa7d8d9ef8...</td>\n",
       "      <td>OpenSea</td>\n",
       "      <td>\\x43c7c</td>\n",
       "      <td>\\x6b6ae</td>\n",
       "    </tr>\n",
       "    <tr>\n",
       "      <th>1</th>\n",
       "      <td>2022-07-27T18:17:13+00:00</td>\n",
       "      <td>ArtBlocks</td>\n",
       "      <td>1.15</td>\n",
       "      <td>1771.57500</td>\n",
       "      <td>&lt;a href=\"https://opensea.io/assets/0xa7d8d9ef8...</td>\n",
       "      <td>OpenSea</td>\n",
       "      <td>\\x32615</td>\n",
       "      <td>\\x26d7b</td>\n",
       "    </tr>\n",
       "    <tr>\n",
       "      <th>2</th>\n",
       "      <td>2022-07-27T18:16:26+00:00</td>\n",
       "      <td>ArtBlocks</td>\n",
       "      <td>1.20</td>\n",
       "      <td>1848.60000</td>\n",
       "      <td>&lt;a href=\"https://opensea.io/assets/0xa7d8d9ef8...</td>\n",
       "      <td>OpenSea</td>\n",
       "      <td>\\x32615</td>\n",
       "      <td>\\x02623</td>\n",
       "    </tr>\n",
       "    <tr>\n",
       "      <th>3</th>\n",
       "      <td>2022-07-27T18:13:59+00:00</td>\n",
       "      <td>ArtBlocks</td>\n",
       "      <td>1.10</td>\n",
       "      <td>1688.25083</td>\n",
       "      <td>&lt;a href=\"https://opensea.io/assets/0xa7d8d9ef8...</td>\n",
       "      <td>OpenSea</td>\n",
       "      <td>\\x0c4a9</td>\n",
       "      <td>\\xfd220</td>\n",
       "    </tr>\n",
       "    <tr>\n",
       "      <th>4</th>\n",
       "      <td>2022-07-27T18:13:35+00:00</td>\n",
       "      <td>ArtBlocks</td>\n",
       "      <td>8.00</td>\n",
       "      <td>12289.36000</td>\n",
       "      <td>&lt;a href=\"https://opensea.io/assets/0xa7d8d9ef8...</td>\n",
       "      <td>OpenSea</td>\n",
       "      <td>\\xfaff9</td>\n",
       "      <td>\\xfd220</td>\n",
       "    </tr>\n",
       "    <tr>\n",
       "      <th>...</th>\n",
       "      <td>...</td>\n",
       "      <td>...</td>\n",
       "      <td>...</td>\n",
       "      <td>...</td>\n",
       "      <td>...</td>\n",
       "      <td>...</td>\n",
       "      <td>...</td>\n",
       "      <td>...</td>\n",
       "    </tr>\n",
       "    <tr>\n",
       "      <th>280</th>\n",
       "      <td>2022-06-29T17:37:06+00:00</td>\n",
       "      <td>ArtBlocks</td>\n",
       "      <td>1.33</td>\n",
       "      <td>1453.33090</td>\n",
       "      <td>&lt;a href=\"https://opensea.io/assets/0xa7d8d9ef8...</td>\n",
       "      <td>OpenSea</td>\n",
       "      <td>\\xb99ea</td>\n",
       "      <td>\\x3612b</td>\n",
       "    </tr>\n",
       "    <tr>\n",
       "      <th>281</th>\n",
       "      <td>2022-06-29T17:36:22+00:00</td>\n",
       "      <td>ArtBlocks</td>\n",
       "      <td>1.30</td>\n",
       "      <td>1419.45627</td>\n",
       "      <td>&lt;a href=\"https://opensea.io/assets/0xa7d8d9ef8...</td>\n",
       "      <td>OpenSea</td>\n",
       "      <td>\\xbb7c9</td>\n",
       "      <td>\\xcd32f</td>\n",
       "    </tr>\n",
       "    <tr>\n",
       "      <th>282</th>\n",
       "      <td>2022-06-29T17:36:00+00:00</td>\n",
       "      <td>ArtBlocks</td>\n",
       "      <td>1.30</td>\n",
       "      <td>1420.54900</td>\n",
       "      <td>&lt;a href=\"https://opensea.io/assets/0xa7d8d9ef8...</td>\n",
       "      <td>OpenSea</td>\n",
       "      <td>\\xeaf96</td>\n",
       "      <td>\\xd1cef</td>\n",
       "    </tr>\n",
       "    <tr>\n",
       "      <th>283</th>\n",
       "      <td>2022-06-29T17:35:34+00:00</td>\n",
       "      <td>ArtBlocks</td>\n",
       "      <td>1.35</td>\n",
       "      <td>1477.19700</td>\n",
       "      <td>&lt;a href=\"https://opensea.io/assets/0xa7d8d9ef8...</td>\n",
       "      <td>OpenSea</td>\n",
       "      <td>\\xe8616</td>\n",
       "      <td>\\xcd32f</td>\n",
       "    </tr>\n",
       "    <tr>\n",
       "      <th>284</th>\n",
       "      <td>2022-06-29T17:35:10+00:00</td>\n",
       "      <td>ArtBlocks</td>\n",
       "      <td>1.49</td>\n",
       "      <td>1628.19936</td>\n",
       "      <td>&lt;a href=\"https://opensea.io/assets/0xa7d8d9ef8...</td>\n",
       "      <td>OpenSea</td>\n",
       "      <td>\\x240cf</td>\n",
       "      <td>\\x1af95</td>\n",
       "    </tr>\n",
       "  </tbody>\n",
       "</table>\n",
       "<p>285 rows × 8 columns</p>\n",
       "</div>"
      ],
      "text/plain": [
       "                    block_time project/addresss  eth_price    usd_price  \\\n",
       "0    2022-07-28T13:02:22+00:00        ArtBlocks       2.40          NaN   \n",
       "1    2022-07-27T18:17:13+00:00        ArtBlocks       1.15   1771.57500   \n",
       "2    2022-07-27T18:16:26+00:00        ArtBlocks       1.20   1848.60000   \n",
       "3    2022-07-27T18:13:59+00:00        ArtBlocks       1.10   1688.25083   \n",
       "4    2022-07-27T18:13:35+00:00        ArtBlocks       8.00  12289.36000   \n",
       "..                         ...              ...        ...          ...   \n",
       "280  2022-06-29T17:37:06+00:00        ArtBlocks       1.33   1453.33090   \n",
       "281  2022-06-29T17:36:22+00:00        ArtBlocks       1.30   1419.45627   \n",
       "282  2022-06-29T17:36:00+00:00        ArtBlocks       1.30   1420.54900   \n",
       "283  2022-06-29T17:35:34+00:00        ArtBlocks       1.35   1477.19700   \n",
       "284  2022-06-29T17:35:10+00:00        ArtBlocks       1.49   1628.19936   \n",
       "\n",
       "                                                  link platform   seller  \\\n",
       "0    <a href=\"https://opensea.io/assets/0xa7d8d9ef8...  OpenSea  \\x43c7c   \n",
       "1    <a href=\"https://opensea.io/assets/0xa7d8d9ef8...  OpenSea  \\x32615   \n",
       "2    <a href=\"https://opensea.io/assets/0xa7d8d9ef8...  OpenSea  \\x32615   \n",
       "3    <a href=\"https://opensea.io/assets/0xa7d8d9ef8...  OpenSea  \\x0c4a9   \n",
       "4    <a href=\"https://opensea.io/assets/0xa7d8d9ef8...  OpenSea  \\xfaff9   \n",
       "..                                                 ...      ...      ...   \n",
       "280  <a href=\"https://opensea.io/assets/0xa7d8d9ef8...  OpenSea  \\xb99ea   \n",
       "281  <a href=\"https://opensea.io/assets/0xa7d8d9ef8...  OpenSea  \\xbb7c9   \n",
       "282  <a href=\"https://opensea.io/assets/0xa7d8d9ef8...  OpenSea  \\xeaf96   \n",
       "283  <a href=\"https://opensea.io/assets/0xa7d8d9ef8...  OpenSea  \\xe8616   \n",
       "284  <a href=\"https://opensea.io/assets/0xa7d8d9ef8...  OpenSea  \\x240cf   \n",
       "\n",
       "       buyer  \n",
       "0    \\x6b6ae  \n",
       "1    \\x26d7b  \n",
       "2    \\x02623  \n",
       "3    \\xfd220  \n",
       "4    \\xfd220  \n",
       "..       ...  \n",
       "280  \\x3612b  \n",
       "281  \\xcd32f  \n",
       "282  \\xd1cef  \n",
       "283  \\xcd32f  \n",
       "284  \\x1af95  \n",
       "\n",
       "[285 rows x 8 columns]"
      ]
     },
     "execution_count": 11,
     "metadata": {},
     "output_type": "execute_result"
    }
   ],
   "source": [
    "df_sig = pd.read_csv(str_filename, header=None, skiprows=1, names=csv_header)\n",
    "df_sig\n"
   ]
  },
  {
   "cell_type": "code",
   "execution_count": 18,
   "id": "c3f72c33",
   "metadata": {},
   "outputs": [
    {
     "data": {
      "text/plain": [
       "0     2022-07-28 13:02:22+00:00\n",
       "1     2022-07-27 18:17:13+00:00\n",
       "2     2022-07-27 18:16:26+00:00\n",
       "3     2022-07-27 18:13:59+00:00\n",
       "4     2022-07-27 18:13:35+00:00\n",
       "                 ...           \n",
       "280   2022-06-29 17:37:06+00:00\n",
       "281   2022-06-29 17:36:22+00:00\n",
       "282   2022-06-29 17:36:00+00:00\n",
       "283   2022-06-29 17:35:34+00:00\n",
       "284   2022-06-29 17:35:10+00:00\n",
       "Name: Date, Length: 285, dtype: datetime64[ns, UTC]"
      ]
     },
     "execution_count": 18,
     "metadata": {},
     "output_type": "execute_result"
    }
   ],
   "source": [
    "df_sig['Date'] = df_sig['block_time'].map(lambda x: datetime.fromisoformat(str(x)))\n",
    "df_sig['Date']"
   ]
  },
  {
   "cell_type": "code",
   "execution_count": 33,
   "id": "658faeaf",
   "metadata": {},
   "outputs": [
    {
     "data": {
      "text/plain": [
       "Text(0, 0.5, 'eth_price(eth)')"
      ]
     },
     "execution_count": 33,
     "metadata": {},
     "output_type": "execute_result"
    },
    {
     "data": {
      "image/png": "[encoded data removed]",
      "text/plain": [
       "<Figure size 432x288 with 1 Axes>"
      ]
     },
     "metadata": {
      "needs_background": "light"
     },
     "output_type": "display_data"
    }
   ],
   "source": [
    "mintStart = datetime.fromisoformat(\"2022-06-29T17:00:00+00:00\")\n",
    "endDate = datetime.fromisoformat(\"2022-06-29T18:30:00+00:00\")\n",
    "df_new=df_sig.loc[(df_sig['Date'] <= endDate)]\n",
    "df_new=df_sig.loc[(df_sig['Date'] >= mintStart)]\n",
    "x = df_new['Date'] - mintStart\n",
    "x = (x.dt.total_seconds() / 60)\n",
    "y = df_new['eth_price']\n",
    "plt.plot(x, y)\n",
    "plt.xlabel('Time(minute)')\n",
    "plt.ylabel('eth_price(eth)')"
   ]
  },
  {
   "cell_type": "code",
   "execution_count": null,
   "id": "40ce7788",
   "metadata": {},
   "outputs": [],
   "source": []
  }
 ],
 "metadata": {
  "kernelspec": {
   "display_name": "Python 3 (ipykernel)",
   "language": "python",
   "name": "python3"
  },
  "language_info": {
   "codemirror_mode": {
    "name": "ipython",
    "version": 3
   },
   "file_extension": ".py",
   "mimetype": "text/x-python",
   "name": "python",
   "nbconvert_exporter": "python",
   "pygments_lexer": "ipython3",
   "version": "3.8.9"
  }
 },
 "nbformat": 4,
 "nbformat_minor": 5
}
