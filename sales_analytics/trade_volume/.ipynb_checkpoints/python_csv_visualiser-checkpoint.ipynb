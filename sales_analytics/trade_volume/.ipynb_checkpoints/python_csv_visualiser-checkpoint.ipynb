{
 "cells": [
  {
   "cell_type": "code",
   "execution_count": 14,
   "id": "a38b44cc",
   "metadata": {},
   "outputs": [],
   "source": [
    "import pandas as pd\n",
    "import csv\n",
    "import matplotlib.pyplot as plt\n",
    "from datetime import datetime\n",
    "from datetime import timedelta\n",
    "import numpy as np\n",
    "from pprint import pprint"
   ]
  },
  {
   "cell_type": "code",
   "execution_count": 26,
   "id": "b1bdc9b3",
   "metadata": {},
   "outputs": [],
   "source": [
    "str_filename = '333_sales.csv'\n",
    "str_filename2 = '333_mint.csv'"
   ]
  },
  {
   "cell_type": "code",
   "execution_count": 27,
   "id": "f6d96369",
   "metadata": {},
   "outputs": [],
   "source": [
    "fh = open(str_filename)\n",
    "csv_reader = csv.reader(fh)\n",
    "fh_mint = open(str_filename2)\n",
    "csv_reader2 = csv.reader(fh_mint)\n",
    "fh_temp = open('temp.csv', 'w')"
   ]
  },
  {
   "cell_type": "code",
   "execution_count": 28,
   "id": "c4d1eeb5",
   "metadata": {},
   "outputs": [],
   "source": [
    "writer = csv.writer(fh_temp, delimiter=',')\n",
    "writer.writerow( ['temp'] + ['ID'] + next(csv_reader2))\n",
    "writer.writerows([i] + row for i, row in enumerate(csv_reader2, 1))"
   ]
  },
  {
   "cell_type": "code",
   "execution_count": 29,
   "id": "69dc00fd",
   "metadata": {},
   "outputs": [],
   "source": [
    "fh_temp.close()\n",
    "fh_temp = open('temp.csv', \"rt\")\n",
    "csv_reader_temp = csv.reader(fh_temp)\n",
    "csv_header = next(csv_reader)\n",
    "csv_header2 = next(csv_reader_temp)\n",
    "csv_header2.append('temp')"
   ]
  },
  {
   "cell_type": "code",
   "execution_count": 30,
   "id": "850bb053",
   "metadata": {},
   "outputs": [],
   "source": [
    "fh.close()\n",
    "fh_mint.close()\n",
    "fh_temp.close()"
   ]
  },
  {
   "cell_type": "code",
   "execution_count": 31,
   "id": "06c50c56",
   "metadata": {},
   "outputs": [
    {
     "ename": "ValueError",
     "evalue": "Duplicate names are not allowed.",
     "output_type": "error",
     "traceback": [
      "\u001b[0;31m---------------------------------------------------------------------------\u001b[0m",
      "\u001b[0;31mValueError\u001b[0m                                Traceback (most recent call last)",
      "Input \u001b[0;32mIn [31]\u001b[0m, in \u001b[0;36m<cell line: 3>\u001b[0;34m()\u001b[0m\n\u001b[1;32m      1\u001b[0m df_sig \u001b[38;5;241m=\u001b[39m pd\u001b[38;5;241m.\u001b[39mread_csv(str_filename, header\u001b[38;5;241m=\u001b[39m\u001b[38;5;28;01mNone\u001b[39;00m, skiprows\u001b[38;5;241m=\u001b[39m\u001b[38;5;241m1\u001b[39m, names\u001b[38;5;241m=\u001b[39mcsv_header)\n\u001b[1;32m      2\u001b[0m df_sig\n\u001b[0;32m----> 3\u001b[0m df_sig2 \u001b[38;5;241m=\u001b[39m \u001b[43mpd\u001b[49m\u001b[38;5;241;43m.\u001b[39;49m\u001b[43mread_csv\u001b[49m\u001b[43m(\u001b[49m\u001b[38;5;124;43m'\u001b[39;49m\u001b[38;5;124;43mtemp.csv\u001b[39;49m\u001b[38;5;124;43m'\u001b[39;49m\u001b[43m,\u001b[49m\u001b[43m \u001b[49m\u001b[43mheader\u001b[49m\u001b[38;5;241;43m=\u001b[39;49m\u001b[38;5;28;43;01mNone\u001b[39;49;00m\u001b[43m,\u001b[49m\u001b[43m \u001b[49m\u001b[43mskiprows\u001b[49m\u001b[38;5;241;43m=\u001b[39;49m\u001b[38;5;241;43m1\u001b[39;49m\u001b[43m,\u001b[49m\u001b[43m \u001b[49m\u001b[43mnames\u001b[49m\u001b[38;5;241;43m=\u001b[39;49m\u001b[43mcsv_header2\u001b[49m\u001b[43m)\u001b[49m\n\u001b[1;32m      4\u001b[0m i \u001b[38;5;241m=\u001b[39m \u001b[38;5;241m0\u001b[39m\n\u001b[1;32m      5\u001b[0m \u001b[38;5;28;01mfor\u001b[39;00m row \u001b[38;5;129;01min\u001b[39;00m df_sig[\u001b[38;5;124m'\u001b[39m\u001b[38;5;124mblock_time\u001b[39m\u001b[38;5;124m'\u001b[39m]:\n",
      "File \u001b[0;32m~/Library/Python/3.8/lib/python/site-packages/pandas/util/_decorators.py:311\u001b[0m, in \u001b[0;36mdeprecate_nonkeyword_arguments.<locals>.decorate.<locals>.wrapper\u001b[0;34m(*args, **kwargs)\u001b[0m\n\u001b[1;32m    305\u001b[0m \u001b[38;5;28;01mif\u001b[39;00m \u001b[38;5;28mlen\u001b[39m(args) \u001b[38;5;241m>\u001b[39m num_allow_args:\n\u001b[1;32m    306\u001b[0m     warnings\u001b[38;5;241m.\u001b[39mwarn(\n\u001b[1;32m    307\u001b[0m         msg\u001b[38;5;241m.\u001b[39mformat(arguments\u001b[38;5;241m=\u001b[39marguments),\n\u001b[1;32m    308\u001b[0m         \u001b[38;5;167;01mFutureWarning\u001b[39;00m,\n\u001b[1;32m    309\u001b[0m         stacklevel\u001b[38;5;241m=\u001b[39mstacklevel,\n\u001b[1;32m    310\u001b[0m     )\n\u001b[0;32m--> 311\u001b[0m \u001b[38;5;28;01mreturn\u001b[39;00m \u001b[43mfunc\u001b[49m\u001b[43m(\u001b[49m\u001b[38;5;241;43m*\u001b[39;49m\u001b[43margs\u001b[49m\u001b[43m,\u001b[49m\u001b[43m \u001b[49m\u001b[38;5;241;43m*\u001b[39;49m\u001b[38;5;241;43m*\u001b[39;49m\u001b[43mkwargs\u001b[49m\u001b[43m)\u001b[49m\n",
      "File \u001b[0;32m~/Library/Python/3.8/lib/python/site-packages/pandas/io/parsers/readers.py:680\u001b[0m, in \u001b[0;36mread_csv\u001b[0;34m(filepath_or_buffer, sep, delimiter, header, names, index_col, usecols, squeeze, prefix, mangle_dupe_cols, dtype, engine, converters, true_values, false_values, skipinitialspace, skiprows, skipfooter, nrows, na_values, keep_default_na, na_filter, verbose, skip_blank_lines, parse_dates, infer_datetime_format, keep_date_col, date_parser, dayfirst, cache_dates, iterator, chunksize, compression, thousands, decimal, lineterminator, quotechar, quoting, doublequote, escapechar, comment, encoding, encoding_errors, dialect, error_bad_lines, warn_bad_lines, on_bad_lines, delim_whitespace, low_memory, memory_map, float_precision, storage_options)\u001b[0m\n\u001b[1;32m    665\u001b[0m kwds_defaults \u001b[38;5;241m=\u001b[39m _refine_defaults_read(\n\u001b[1;32m    666\u001b[0m     dialect,\n\u001b[1;32m    667\u001b[0m     delimiter,\n\u001b[0;32m   (...)\u001b[0m\n\u001b[1;32m    676\u001b[0m     defaults\u001b[38;5;241m=\u001b[39m{\u001b[38;5;124m\"\u001b[39m\u001b[38;5;124mdelimiter\u001b[39m\u001b[38;5;124m\"\u001b[39m: \u001b[38;5;124m\"\u001b[39m\u001b[38;5;124m,\u001b[39m\u001b[38;5;124m\"\u001b[39m},\n\u001b[1;32m    677\u001b[0m )\n\u001b[1;32m    678\u001b[0m kwds\u001b[38;5;241m.\u001b[39mupdate(kwds_defaults)\n\u001b[0;32m--> 680\u001b[0m \u001b[38;5;28;01mreturn\u001b[39;00m \u001b[43m_read\u001b[49m\u001b[43m(\u001b[49m\u001b[43mfilepath_or_buffer\u001b[49m\u001b[43m,\u001b[49m\u001b[43m \u001b[49m\u001b[43mkwds\u001b[49m\u001b[43m)\u001b[49m\n",
      "File \u001b[0;32m~/Library/Python/3.8/lib/python/site-packages/pandas/io/parsers/readers.py:572\u001b[0m, in \u001b[0;36m_read\u001b[0;34m(filepath_or_buffer, kwds)\u001b[0m\n\u001b[1;32m    569\u001b[0m nrows \u001b[38;5;241m=\u001b[39m kwds\u001b[38;5;241m.\u001b[39mget(\u001b[38;5;124m\"\u001b[39m\u001b[38;5;124mnrows\u001b[39m\u001b[38;5;124m\"\u001b[39m, \u001b[38;5;28;01mNone\u001b[39;00m)\n\u001b[1;32m    571\u001b[0m \u001b[38;5;66;03m# Check for duplicates in names.\u001b[39;00m\n\u001b[0;32m--> 572\u001b[0m \u001b[43m_validate_names\u001b[49m\u001b[43m(\u001b[49m\u001b[43mkwds\u001b[49m\u001b[38;5;241;43m.\u001b[39;49m\u001b[43mget\u001b[49m\u001b[43m(\u001b[49m\u001b[38;5;124;43m\"\u001b[39;49m\u001b[38;5;124;43mnames\u001b[39;49m\u001b[38;5;124;43m\"\u001b[39;49m\u001b[43m,\u001b[49m\u001b[43m \u001b[49m\u001b[38;5;28;43;01mNone\u001b[39;49;00m\u001b[43m)\u001b[49m\u001b[43m)\u001b[49m\n\u001b[1;32m    574\u001b[0m \u001b[38;5;66;03m# Create the parser.\u001b[39;00m\n\u001b[1;32m    575\u001b[0m parser \u001b[38;5;241m=\u001b[39m TextFileReader(filepath_or_buffer, \u001b[38;5;241m*\u001b[39m\u001b[38;5;241m*\u001b[39mkwds)\n",
      "File \u001b[0;32m~/Library/Python/3.8/lib/python/site-packages/pandas/io/parsers/readers.py:532\u001b[0m, in \u001b[0;36m_validate_names\u001b[0;34m(names)\u001b[0m\n\u001b[1;32m    530\u001b[0m \u001b[38;5;28;01mif\u001b[39;00m names \u001b[38;5;129;01mis\u001b[39;00m \u001b[38;5;129;01mnot\u001b[39;00m \u001b[38;5;28;01mNone\u001b[39;00m:\n\u001b[1;32m    531\u001b[0m     \u001b[38;5;28;01mif\u001b[39;00m \u001b[38;5;28mlen\u001b[39m(names) \u001b[38;5;241m!=\u001b[39m \u001b[38;5;28mlen\u001b[39m(\u001b[38;5;28mset\u001b[39m(names)):\n\u001b[0;32m--> 532\u001b[0m         \u001b[38;5;28;01mraise\u001b[39;00m \u001b[38;5;167;01mValueError\u001b[39;00m(\u001b[38;5;124m\"\u001b[39m\u001b[38;5;124mDuplicate names are not allowed.\u001b[39m\u001b[38;5;124m\"\u001b[39m)\n\u001b[1;32m    533\u001b[0m     \u001b[38;5;28;01mif\u001b[39;00m \u001b[38;5;129;01mnot\u001b[39;00m (\n\u001b[1;32m    534\u001b[0m         is_list_like(names, allow_sets\u001b[38;5;241m=\u001b[39m\u001b[38;5;28;01mFalse\u001b[39;00m) \u001b[38;5;129;01mor\u001b[39;00m \u001b[38;5;28misinstance\u001b[39m(names, abc\u001b[38;5;241m.\u001b[39mKeysView)\n\u001b[1;32m    535\u001b[0m     ):\n\u001b[1;32m    536\u001b[0m         \u001b[38;5;28;01mraise\u001b[39;00m \u001b[38;5;167;01mValueError\u001b[39;00m(\u001b[38;5;124m\"\u001b[39m\u001b[38;5;124mNames should be an ordered collection.\u001b[39m\u001b[38;5;124m\"\u001b[39m)\n",
      "\u001b[0;31mValueError\u001b[0m: Duplicate names are not allowed."
     ]
    }
   ],
   "source": [
    "df_sig = pd.read_csv(str_filename, header=None, skiprows=1, names=csv_header)\n",
    "df_sig\n",
    "df_sig2 = pd.read_csv('temp.csv', header=None, skiprows=1, names=csv_header2)\n",
    "i = 0\n",
    "for row in df_sig['block_time']:\n",
    "    row = row.replace('+00:00', '')\n",
    "    row = row.replace('T', ' ')\n",
    "    df_sig.at[i, 'block_time'] = row\n",
    "    i += 1\n",
    "df_sig2"
   ]
  },
  {
   "cell_type": "code",
   "execution_count": 21,
   "id": "c3f72c33",
   "metadata": {},
   "outputs": [],
   "source": [
    "df_sig['Date'] = df_sig['block_time'].map(lambda x: datetime.strptime(str(x), '%Y-%m-%d %H:%M:%S'))\n",
    "df_sig['Date']\n",
    "df_sig2['Date'] = df_sig2['DateTime'].map(lambda x: datetime.strptime(str(x), '%Y-%m-%d %H:%M:%S'))"
   ]
  },
  {
   "cell_type": "code",
   "execution_count": 22,
   "id": "6fb8e1d1",
   "metadata": {},
   "outputs": [
    {
     "data": {
      "text/html": [
       "<div>\n",
       "<style scoped>\n",
       "    .dataframe tbody tr th:only-of-type {\n",
       "        vertical-align: middle;\n",
       "    }\n",
       "\n",
       "    .dataframe tbody tr th {\n",
       "        vertical-align: top;\n",
       "    }\n",
       "\n",
       "    .dataframe thead th {\n",
       "        text-align: right;\n",
       "    }\n",
       "</style>\n",
       "<table border=\"1\" class=\"dataframe\">\n",
       "  <thead>\n",
       "    <tr style=\"text-align: right;\">\n",
       "      <th></th>\n",
       "      <th>eth_price</th>\n",
       "      <th>usd_price</th>\n",
       "    </tr>\n",
       "    <tr>\n",
       "      <th>Date</th>\n",
       "      <th></th>\n",
       "      <th></th>\n",
       "    </tr>\n",
       "  </thead>\n",
       "  <tbody>\n",
       "    <tr>\n",
       "      <th>2022-07-27 17:20:00</th>\n",
       "      <td>2.877273</td>\n",
       "      <td>4287.732750</td>\n",
       "    </tr>\n",
       "    <tr>\n",
       "      <th>2022-07-27 17:30:00</th>\n",
       "      <td>3.146341</td>\n",
       "      <td>4720.426920</td>\n",
       "    </tr>\n",
       "    <tr>\n",
       "      <th>2022-07-27 17:40:00</th>\n",
       "      <td>2.812143</td>\n",
       "      <td>4221.031659</td>\n",
       "    </tr>\n",
       "    <tr>\n",
       "      <th>2022-07-27 17:50:00</th>\n",
       "      <td>2.616154</td>\n",
       "      <td>3927.881915</td>\n",
       "    </tr>\n",
       "    <tr>\n",
       "      <th>2022-07-27 18:00:00</th>\n",
       "      <td>2.263333</td>\n",
       "      <td>3422.280333</td>\n",
       "    </tr>\n",
       "    <tr>\n",
       "      <th>2022-07-27 18:10:00</th>\n",
       "      <td>2.708333</td>\n",
       "      <td>4162.950167</td>\n",
       "    </tr>\n",
       "    <tr>\n",
       "      <th>2022-07-27 18:20:00</th>\n",
       "      <td>2.038462</td>\n",
       "      <td>3150.815112</td>\n",
       "    </tr>\n",
       "    <tr>\n",
       "      <th>2022-07-27 18:30:00</th>\n",
       "      <td>3.098333</td>\n",
       "      <td>4798.329783</td>\n",
       "    </tr>\n",
       "    <tr>\n",
       "      <th>2022-07-27 18:50:00</th>\n",
       "      <td>2.990000</td>\n",
       "      <td>4708.442700</td>\n",
       "    </tr>\n",
       "    <tr>\n",
       "      <th>2022-07-27 19:00:00</th>\n",
       "      <td>1.830000</td>\n",
       "      <td>2884.261500</td>\n",
       "    </tr>\n",
       "    <tr>\n",
       "      <th>2022-07-27 19:10:00</th>\n",
       "      <td>3.990000</td>\n",
       "      <td>6327.741000</td>\n",
       "    </tr>\n",
       "    <tr>\n",
       "      <th>2022-07-27 19:20:00</th>\n",
       "      <td>1.880000</td>\n",
       "      <td>3000.611600</td>\n",
       "    </tr>\n",
       "    <tr>\n",
       "      <th>2022-07-27 19:30:00</th>\n",
       "      <td>1.772500</td>\n",
       "      <td>2825.323975</td>\n",
       "    </tr>\n",
       "    <tr>\n",
       "      <th>2022-07-27 19:40:00</th>\n",
       "      <td>2.570000</td>\n",
       "      <td>4091.671300</td>\n",
       "    </tr>\n",
       "    <tr>\n",
       "      <th>2022-07-27 19:50:00</th>\n",
       "      <td>2.085000</td>\n",
       "      <td>3317.490900</td>\n",
       "    </tr>\n",
       "    <tr>\n",
       "      <th>2022-07-27 20:00:00</th>\n",
       "      <td>3.500000</td>\n",
       "      <td>5576.060000</td>\n",
       "    </tr>\n",
       "    <tr>\n",
       "      <th>2022-07-27 20:10:00</th>\n",
       "      <td>2.775000</td>\n",
       "      <td>4423.494000</td>\n",
       "    </tr>\n",
       "    <tr>\n",
       "      <th>2022-07-27 20:40:00</th>\n",
       "      <td>1.450000</td>\n",
       "      <td>2322.769500</td>\n",
       "    </tr>\n",
       "    <tr>\n",
       "      <th>2022-07-27 20:50:00</th>\n",
       "      <td>1.732000</td>\n",
       "      <td>2778.659240</td>\n",
       "    </tr>\n",
       "    <tr>\n",
       "      <th>2022-07-27 21:10:00</th>\n",
       "      <td>1.990000</td>\n",
       "      <td>3186.639367</td>\n",
       "    </tr>\n",
       "    <tr>\n",
       "      <th>2022-07-27 21:20:00</th>\n",
       "      <td>1.800000</td>\n",
       "      <td>2882.376000</td>\n",
       "    </tr>\n",
       "    <tr>\n",
       "      <th>2022-07-27 21:30:00</th>\n",
       "      <td>1.540000</td>\n",
       "      <td>2455.576200</td>\n",
       "    </tr>\n",
       "    <tr>\n",
       "      <th>2022-07-27 21:40:00</th>\n",
       "      <td>1.660000</td>\n",
       "      <td>2660.565000</td>\n",
       "    </tr>\n",
       "    <tr>\n",
       "      <th>2022-07-27 22:00:00</th>\n",
       "      <td>1.605000</td>\n",
       "      <td>2582.332650</td>\n",
       "    </tr>\n",
       "    <tr>\n",
       "      <th>2022-07-27 22:30:00</th>\n",
       "      <td>1.940000</td>\n",
       "      <td>3148.736400</td>\n",
       "    </tr>\n",
       "    <tr>\n",
       "      <th>2022-07-27 22:40:00</th>\n",
       "      <td>1.995000</td>\n",
       "      <td>3236.801300</td>\n",
       "    </tr>\n",
       "    <tr>\n",
       "      <th>2022-07-27 22:50:00</th>\n",
       "      <td>2.690000</td>\n",
       "      <td>4368.183400</td>\n",
       "    </tr>\n",
       "  </tbody>\n",
       "</table>\n",
       "</div>"
      ],
      "text/plain": [
       "                     eth_price    usd_price\n",
       "Date                                       \n",
       "2022-07-27 17:20:00   2.877273  4287.732750\n",
       "2022-07-27 17:30:00   3.146341  4720.426920\n",
       "2022-07-27 17:40:00   2.812143  4221.031659\n",
       "2022-07-27 17:50:00   2.616154  3927.881915\n",
       "2022-07-27 18:00:00   2.263333  3422.280333\n",
       "2022-07-27 18:10:00   2.708333  4162.950167\n",
       "2022-07-27 18:20:00   2.038462  3150.815112\n",
       "2022-07-27 18:30:00   3.098333  4798.329783\n",
       "2022-07-27 18:50:00   2.990000  4708.442700\n",
       "2022-07-27 19:00:00   1.830000  2884.261500\n",
       "2022-07-27 19:10:00   3.990000  6327.741000\n",
       "2022-07-27 19:20:00   1.880000  3000.611600\n",
       "2022-07-27 19:30:00   1.772500  2825.323975\n",
       "2022-07-27 19:40:00   2.570000  4091.671300\n",
       "2022-07-27 19:50:00   2.085000  3317.490900\n",
       "2022-07-27 20:00:00   3.500000  5576.060000\n",
       "2022-07-27 20:10:00   2.775000  4423.494000\n",
       "2022-07-27 20:40:00   1.450000  2322.769500\n",
       "2022-07-27 20:50:00   1.732000  2778.659240\n",
       "2022-07-27 21:10:00   1.990000  3186.639367\n",
       "2022-07-27 21:20:00   1.800000  2882.376000\n",
       "2022-07-27 21:30:00   1.540000  2455.576200\n",
       "2022-07-27 21:40:00   1.660000  2660.565000\n",
       "2022-07-27 22:00:00   1.605000  2582.332650\n",
       "2022-07-27 22:30:00   1.940000  3148.736400\n",
       "2022-07-27 22:40:00   1.995000  3236.801300\n",
       "2022-07-27 22:50:00   2.690000  4368.183400"
      ]
     },
     "execution_count": 22,
     "metadata": {},
     "output_type": "execute_result"
    }
   ],
   "source": [
    "mintStart = datetime.strptime(\"2022-07-27 17:00:00\", '%Y-%m-%d %H:%M:%S')\n",
    "endDate = datetime.strptime(\"2022-07-27 23:59:00\", '%Y-%m-%d %H:%M:%S')\n",
    "collection_size = 500\n",
    "df_new=df_sig.loc[(df_sig['Date'] <= endDate)]\n",
    "df_new=df_new.loc[(df_sig['Date'] >= mintStart)]\n",
    "df_new['Date'] = pd.to_datetime(df_new['Date'])\n",
    "df_new = df_new.set_index('Date')\n",
    "df_new = df_new.resample('10T').mean()\n",
    "df_new=df_new.loc[(df_new['eth_price'] >= 0.5)]\n",
    "df_new"
   ]
  },
  {
   "cell_type": "code",
   "execution_count": 23,
   "id": "658faeaf",
   "metadata": {},
   "outputs": [
    {
     "name": "stdout",
     "output_type": "stream",
     "text": [
      "final mint price:\n",
      "2.192398119122257\n",
      "first mint price - final mint price:\n",
      "0.9423981191222572\n"
     ]
    },
    {
     "data": {
      "text/plain": [
       "[<matplotlib.lines.Line2D at 0x11eb4f850>]"
      ]
     },
     "execution_count": 23,
     "metadata": {},
     "output_type": "execute_result"
    },
    {
     "data": {
      "image/png": "[encoded data removed]",
      "text/plain": [
       "<Figure size 1440x360 with 1 Axes>"
      ]
     },
     "metadata": {
      "needs_background": "light"
     },
     "output_type": "display_data"
    }
   ],
   "source": [
    "df_sig2 = df_sig2.loc[(df_sig2['Date'] >= mintStart)]\n",
    "df_sig2 = df_sig2.loc[(df_sig2['ErrCode'] != 'execution reverted')]\n",
    "final_mint_price = df_sig2['Value_IN(ETH)']\n",
    "y = (df_new['eth_price'] / final_mint_price[collection_size])\n",
    "x = df_new.index\n",
    "x = x - mintStart\n",
    "x = x.total_seconds() / 3600\n",
    "plt.xlabel('Time(hours)')\n",
    "plt.ylabel('eth_price(eth)/final mint price')\n",
    "plt.rcParams[\"figure.figsize\"] = (20,5)\n",
    "plt.axhline(y=1, color='r', linestyle='-')\n",
    "print(\"final mint price:\")\n",
    "print (final_mint_price[collection_size])\n",
    "print(\"first mint price - final mint price:\")\n",
    "print(final_mint_price.iloc[0] - final_mint_price[collection_size])\n",
    "plt.plot(x,y)"
   ]
  },
  {
   "cell_type": "code",
   "execution_count": null,
   "id": "40ce7788",
   "metadata": {},
   "outputs": [],
   "source": []
  }
 ],
 "metadata": {
  "kernelspec": {
   "display_name": "Python 3 (ipykernel)",
   "language": "python",
   "name": "python3"
  },
  "language_info": {
   "codemirror_mode": {
    "name": "ipython",
    "version": 3
   },
   "file_extension": ".py",
   "mimetype": "text/x-python",
   "name": "python",
   "nbconvert_exporter": "python",
   "pygments_lexer": "ipython3",
   "version": "3.8.9"
  }
 },
 "nbformat": 4,
 "nbformat_minor": 5
}
